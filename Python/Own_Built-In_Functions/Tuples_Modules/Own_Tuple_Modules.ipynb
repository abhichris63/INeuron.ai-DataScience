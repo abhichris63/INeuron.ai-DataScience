{
 "cells": [
  {
   "cell_type": "markdown",
   "id": "c990f269",
   "metadata": {},
   "source": [
    "# Created Tuples Own  Built-in Functions"
   ]
  },
  {
   "cell_type": "code",
   "execution_count": 10,
   "id": "4c361ebd",
   "metadata": {},
   "outputs": [],
   "source": [
    "import logging #importing log module\n",
    "\n",
    "logging.basicConfig(filename=\"Tuple_module.log\", level=logging.DEBUG, format=' %(asctime)s %(levelname)s %(message)s ')\n",
    "\n",
    "\n",
    "class TupleFunction:\n",
    "    def __init__(self,input_1):\n",
    "        try:\n",
    "            self.input_1 = input_1\n",
    "            if type(self.input_1) != tuple:\n",
    "                return \"Enter in Tuple Formate\"\n",
    "                raise ValueError('not uple')\n",
    "                logging.info('Its is creating the class variable and Not entered in a tuple formate')\n",
    "        except Exception as e:\n",
    "            print(e)\n",
    "            \n",
    "    def tuple_count_fun(self,input_2):\n",
    "        \"\"\"This is a count function it returns number of value occurred inside a tuple\"\"\"\n",
    "        try:\n",
    "            self.input_2 = input_2\n",
    "            if type(self.input_2)==int or type(self.input_2)==str :\n",
    "                a=0\n",
    "                for i in self.input_1:\n",
    "                    if i==self.input_2:\n",
    "                        a+=1\n",
    "                return a\n",
    "            elif type(self.input_2)!=int:\n",
    "                print(\"Enter valid argument\")\n",
    "                raise ValueError\n",
    "        \n",
    "        except Exception as e:\n",
    "            print(e)\n",
    "\n",
    "\n",
    "    def tuple_index_fun(self,input_3):\n",
    "        \"\"\"This is index function it returns the first index of a value passed\"\"\"\n",
    "        try:\n",
    "            self.input_3 = input_3\n",
    "            if type(self.input_3) == int or type(self.input_3) == str:\n",
    "                for i in range(len(self.input_1)):\n",
    "                    if self.input_1[i] == self.input_3:\n",
    "                        return i\n",
    "            elif type(self.input_3) != int:\n",
    "                return(\"Enter valid argument\")\n",
    "                raise ValueError\n",
    "        \n",
    "        except Exception as e:\n",
    "            print(e)"
   ]
  },
  {
   "cell_type": "code",
   "execution_count": 11,
   "id": "d9d45510",
   "metadata": {},
   "outputs": [],
   "source": [
    "obj = TupleFunction((1,2,'a',2,4,5,'a',6,6,3,3,7))"
   ]
  },
  {
   "cell_type": "code",
   "execution_count": 12,
   "id": "2a1529b0",
   "metadata": {},
   "outputs": [
    {
     "data": {
      "text/plain": [
       "2"
      ]
     },
     "execution_count": 12,
     "metadata": {},
     "output_type": "execute_result"
    }
   ],
   "source": [
    "obj.tuple_count_fun(2) #number 2 is occured 2 times in the above given tuples"
   ]
  },
  {
   "cell_type": "code",
   "execution_count": 13,
   "id": "be7e33f8",
   "metadata": {},
   "outputs": [
    {
     "data": {
      "text/plain": [
       "4"
      ]
     },
     "execution_count": 13,
     "metadata": {},
     "output_type": "execute_result"
    }
   ],
   "source": [
    "obj.tuple_index_fun(4) #number 4 is present in 4th Index in the above given list of tuples."
   ]
  },
  {
   "cell_type": "code",
   "execution_count": null,
   "id": "adc9f6ac",
   "metadata": {},
   "outputs": [],
   "source": []
  }
 ],
 "metadata": {
  "kernelspec": {
   "display_name": "Python 3 (ipykernel)",
   "language": "python",
   "name": "python3"
  },
  "language_info": {
   "codemirror_mode": {
    "name": "ipython",
    "version": 3
   },
   "file_extension": ".py",
   "mimetype": "text/x-python",
   "name": "python",
   "nbconvert_exporter": "python",
   "pygments_lexer": "ipython3",
   "version": "3.9.12"
  }
 },
 "nbformat": 4,
 "nbformat_minor": 5
}
